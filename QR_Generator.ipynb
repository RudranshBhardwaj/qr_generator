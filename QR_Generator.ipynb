{
  "nbformat": 4,
  "nbformat_minor": 0,
  "metadata": {
    "colab": {
      "provenance": [],
      "collapsed_sections": [],
      "authorship_tag": "ABX9TyPPIWsjH3qbRx7AOaI4JduB",
      "include_colab_link": true
    },
    "kernelspec": {
      "name": "python3",
      "display_name": "Python 3"
    },
    "language_info": {
      "name": "python"
    }
  },
  "cells": [
    {
      "cell_type": "markdown",
      "metadata": {
        "id": "view-in-github",
        "colab_type": "text"
      },
      "source": [
        "<a href=\"https://colab.research.google.com/github/RudranshBhardwaj/qr_generator/blob/master/QR_Generator.ipynb\" target=\"_parent\"><img src=\"https://colab.research.google.com/assets/colab-badge.svg\" alt=\"Open In Colab\"/></a>"
      ]
    },
    {
      "cell_type": "code",
      "execution_count": null,
      "metadata": {
        "id": "IfxUxbjex980"
      },
      "outputs": [],
      "source": [
        "pip install qrcode"
      ]
    },
    {
      "cell_type": "code",
      "source": [
        "pip install image\n"
      ],
      "metadata": {
        "id": "t-zbhZjcyCc3"
      },
      "execution_count": null,
      "outputs": []
    },
    {
      "cell_type": "code",
      "source": [
        "import qrcode\n",
        "import image\n",
        "qr=qrcode.QRCode(\n",
        "    version=15,       #15 means the version of the qr code , high the number,bigger the code image and complicated picture will be.\n",
        "    box_size=5,      # size of the where qr code wil be displayed.\n",
        "    border=5          #it is the white part of image-- border in all 4 size with white color.\n",
        ")\n",
        "data=input(\"Enter the input for which you want to get output: \")\n",
        "qr.add_data(data)\n",
        "qr.make(fit=True)\n",
        "img=qr.make_image(fill=\"black\",back_color=\"white\")\n",
        "img.save(\"test.png\")"
      ],
      "metadata": {
        "id": "s3LoxfxgyGc_",
        "colab": {
          "base_uri": "https://localhost:8080/"
        },
        "outputId": "90ba5170-19ce-4451-d271-c3ad8c0ea266"
      },
      "execution_count": 3,
      "outputs": [
        {
          "name": "stdout",
          "output_type": "stream",
          "text": [
            "Enter the input for which you want to get output: rudransh\n"
          ]
        }
      ]
    },
    {
      "cell_type": "code",
      "source": [],
      "metadata": {
        "id": "a228JVWB0_cV"
      },
      "execution_count": 3,
      "outputs": []
    }
  ]
}